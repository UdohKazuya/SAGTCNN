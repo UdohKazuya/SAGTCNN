{
 "cells": [
  {
   "cell_type": "markdown",
   "metadata": {},
   "source": [
    "# Demo of Texutre Modulation \n",
    "\n",
    "- Import\n",
    "- Demo for Sec.4.4\n",
    "- Demo for Sec.5.2\n"
   ]
  },
  {
   "cell_type": "markdown",
   "metadata": {},
   "source": [
    "## Import"
   ]
  },
  {
   "cell_type": "code",
   "execution_count": 1,
   "metadata": {},
   "outputs": [],
   "source": [
    "#!/usr/bin/env python\n",
    "# -*- coding: utf-8 -*-\n",
    "import time\n",
    "import math\n",
    "import numpy as np\n",
    "import torch\n",
    "import torch.nn as nn\n",
    "import torch.nn.parallel\n",
    "import torch.backends.cudnn as cudnn\n",
    "import torch.optim as optim\n",
    "import torch.utils.data\n",
    "from torch.utils.data import DataLoader\n",
    "from torchvision.models.utils import load_state_dict_from_url\n",
    "from torch.utils.data.dataset import Subset,ConcatDataset\n",
    "import torchvision.transforms as transforms\n",
    "import torchvision.utils as vutils\n",
    "import torchvision\n",
    "import torch.nn.functional as F\n",
    "from torch.autograd import Variable\n",
    "import utils\n",
    "import os\n",
    "import sys\n",
    "import pickle\n",
    "from PIL import Image\n",
    "from matplotlib import pyplot as plt\n",
    "import glob\n",
    "from omegaconf import OmegaConf\n",
    "import omegaconf\n",
    "from models import *\n",
    "from ipywidgets import interact, FloatSlider,fixed,interact_manual\n",
    "###################\n",
    "from texture_modulation_demo import TM_Demo\n",
    "###############"
   ]
  },
  {
   "cell_type": "markdown",
   "metadata": {},
   "source": [
    "# Demo for Section4.4"
   ]
  },
  {
   "cell_type": "code",
   "execution_count": 2,
   "metadata": {},
   "outputs": [
    {
     "name": "stdout",
     "output_type": "stream",
     "text": [
      "------------------------\n",
      "TOP Image : Modulated Image\n",
      "Bottom Image : Not Modulated Image\n"
     ]
    },
    {
     "data": {
      "application/vnd.jupyter.widget-view+json": {
       "model_id": "850cbb21d46546f09785e4963a41a7f1",
       "version_major": 2,
       "version_minor": 0
      },
      "text/plain": [
       "interactive(children=(FloatSlider(value=0.0, continuous_update=False, description='e_2', max=0.5, min=-0.5, st…"
      ]
     },
     "metadata": {},
     "output_type": "display_data"
    },
    {
     "data": {
      "text/plain": [
       "<function ipywidgets.widgets.interaction._InteractFactory.__call__.<locals>.<lambda>(*args, **kwargs)>"
      ]
     },
     "execution_count": 2,
     "metadata": {},
     "output_type": "execute_result"
    }
   ],
   "source": [
    "# This is additional config.You can change config here.\n",
    "sys.argv = ['Do_not_remove.py','experiment.sigma=70','experiment.best_model=Color70_GTCNN_D1','experiment.device_ids=[2]'] \n",
    "rol = 0.5 # range_of_lambda\n",
    "\n",
    "######################################\n",
    "# Config load and merge\n",
    "conf = OmegaConf.load('confs/GTCNN.yaml')\n",
    "OmegaConf.set_struct(conf, True)\n",
    "conf.merge_with_cli()\n",
    "#####################################\n",
    "\n",
    "image_path  = './163085.png' # image path\n",
    "Demo = TM_Demo(image_path,conf) # Demo code\n",
    "print('TOP Image : Modulated Image')\n",
    "print('Bottom Image : Not Modulated Image')\n",
    "interact(Demo.ex_test,\n",
    "         e_0=fixed(0),\n",
    "         e_1=fixed(0),\n",
    "         e_2=FloatSlider(min=-rol, max=rol, step=0.0001, value=0, continuous_update=False),\n",
    "         e_3=fixed(0),\n",
    "         e_4=fixed(0),)\n"
   ]
  },
  {
   "cell_type": "markdown",
   "metadata": {},
   "source": [
    "# Gray-scale Demo for SupMat"
   ]
  },
  {
   "cell_type": "code",
   "execution_count": 3,
   "metadata": {},
   "outputs": [
    {
     "name": "stdout",
     "output_type": "stream",
     "text": [
      "------------------------\n",
      "TOP Image : Modulated Image\n",
      "Bottom Image : Not Modulated Image\n"
     ]
    },
    {
     "data": {
      "application/vnd.jupyter.widget-view+json": {
       "model_id": "ea2f0d39f47e424398fb08f62126f0e6",
       "version_major": 2,
       "version_minor": 0
      },
      "text/plain": [
       "interactive(children=(FloatSlider(value=0.0, continuous_update=False, description='e_2', max=0.5, min=-0.5, st…"
      ]
     },
     "metadata": {},
     "output_type": "display_data"
    },
    {
     "data": {
      "text/plain": [
       "<function ipywidgets.widgets.interaction._InteractFactory.__call__.<locals>.<lambda>(*args, **kwargs)>"
      ]
     },
     "execution_count": 3,
     "metadata": {},
     "output_type": "execute_result"
    }
   ],
   "source": [
    "# This is additional config.You can change config here.\n",
    "sys.argv = ['Do_not_remove.py','experiment.sigma=50','experiment.color=1','experiment.best_model=Gray50_GTCNN_D1','experiment.device_ids=[2]'] \n",
    "rol = 0.5 # range_of_lambda\n",
    "\n",
    "######################################\n",
    "# Config load and merge\n",
    "conf = OmegaConf.load('confs/GTCNN.yaml')\n",
    "OmegaConf.set_struct(conf, True)\n",
    "conf.merge_with_cli()\n",
    "#####################################\n",
    "\n",
    "image_path  = './163085.png' # image path\n",
    "Demo = TM_Demo(image_path,conf) # Demo code\n",
    "print('TOP Image : Modulated Image')\n",
    "print('Bottom Image : Not Modulated Image')\n",
    "interact(Demo.ex_test,\n",
    "         e_0=fixed(0),\n",
    "         e_1=fixed(0),\n",
    "         e_2=FloatSlider(min=-rol, max=rol, step=0.0001, value=0, continuous_update=False),\n",
    "         e_3=fixed(0),\n",
    "         e_4=fixed(0),)\n"
   ]
  },
  {
   "cell_type": "markdown",
   "metadata": {},
   "source": [
    "# Demo for Section5.2 (ablation study)\n",
    "You can modulate any output of skipconection"
   ]
  },
  {
   "cell_type": "code",
   "execution_count": 4,
   "metadata": {},
   "outputs": [
    {
     "name": "stdout",
     "output_type": "stream",
     "text": [
      "------------------------\n",
      "TOP Image : Modulated Image\n",
      "Bottom Image : Not Modulated Image\n"
     ]
    },
    {
     "data": {
      "application/vnd.jupyter.widget-view+json": {
       "model_id": "96543701ba8943009d7c54bb33b8a922",
       "version_major": 2,
       "version_minor": 0
      },
      "text/plain": [
       "interactive(children=(FloatSlider(value=0.0, continuous_update=False, description='e_0', max=0.5, min=-0.5, st…"
      ]
     },
     "metadata": {},
     "output_type": "display_data"
    },
    {
     "data": {
      "text/plain": [
       "<function ipywidgets.widgets.interaction._InteractFactory.__call__.<locals>.<lambda>(*args, **kwargs)>"
      ]
     },
     "execution_count": 4,
     "metadata": {},
     "output_type": "execute_result"
    }
   ],
   "source": [
    "# This is additional config.You can change config here.\n",
    "sys.argv = ['Do_not_remove.py','experiment.sigma=70','experiment.best_model=Color70_GTCNN_D1','experiment.device_ids=[2]'] \n",
    "rol = 0.5 # range_of_lambda\n",
    "\n",
    "######################################\n",
    "# Config load and merge\n",
    "conf = OmegaConf.load('confs/GTCNN.yaml')\n",
    "OmegaConf.set_struct(conf, True)\n",
    "conf.merge_with_cli()\n",
    "#####################################\n",
    "\n",
    "\n",
    "image_path  = './163085.png' # image path\n",
    "Demo = TM_Demo(image_path,conf) # Demo code\n",
    "print('TOP Image : Modulated Image')\n",
    "print('Bottom Image : Not Modulated Image')\n",
    "interact(Demo.ex_test,\n",
    "         e_0=FloatSlider(min=-rol, max=rol, step=0.0001, value=0, continuous_update=False),\n",
    "         e_1=FloatSlider(min=-rol, max=rol, step=0.0001, value=0, continuous_update=False),\n",
    "         e_2=FloatSlider(min=-rol, max=rol, step=0.0001, value=0, continuous_update=False),\n",
    "         e_3=FloatSlider(min=-rol, max=rol, step=0.0001, value=0, continuous_update=False),\n",
    "         e_4=FloatSlider(min=-rol, max=rol, step=0.0001, value=0, continuous_update=False))"
   ]
  },
  {
   "cell_type": "code",
   "execution_count": null,
   "metadata": {},
   "outputs": [],
   "source": []
  }
 ],
 "metadata": {
  "kernelspec": {
   "display_name": "Python 3",
   "language": "python",
   "name": "python3"
  },
  "language_info": {
   "codemirror_mode": {
    "name": "ipython",
    "version": 3
   },
   "file_extension": ".py",
   "mimetype": "text/x-python",
   "name": "python",
   "nbconvert_exporter": "python",
   "pygments_lexer": "ipython3",
   "version": "3.7.7"
  }
 },
 "nbformat": 4,
 "nbformat_minor": 4
}
